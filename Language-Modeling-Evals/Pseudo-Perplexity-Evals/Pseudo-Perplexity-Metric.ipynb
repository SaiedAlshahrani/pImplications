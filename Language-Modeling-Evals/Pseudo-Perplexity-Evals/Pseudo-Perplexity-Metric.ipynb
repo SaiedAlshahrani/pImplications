{
 "cells": [
  {
   "cell_type": "markdown",
   "id": "aa07e6a0-f7f6-4ce0-8c24-eb909fcf4128",
   "metadata": {},
   "source": [
    "# __Pseudo-Perplexity Evaluations of Masked Language Models__"
   ]
  },
  {
   "cell_type": "markdown",
   "id": "03315749-fa00-4b49-bb68-f9e8453b318a",
   "metadata": {},
   "source": [
    "## # Evaluation of __Arabic Wikipedia__ Masked Language Model (With Bots):"
   ]
  },
  {
   "cell_type": "code",
   "execution_count": 1,
   "id": "3a03d070-de07-4401-924e-820b911462d3",
   "metadata": {
    "tags": []
   },
   "outputs": [
    {
     "name": "stdout",
     "output_type": "stream",
     "text": [
      "Downloading and preparing dataset csv/default to /Users/saied/.cache/huggingface/datasets/csv/default-d0b6fc843e4f0822/0.0.0/6954658bab30a358235fa864b05cf819af0e179325c740e4bc853bcc7ec513e1...\n",
      "Dataset csv downloaded and prepared to /Users/saied/.cache/huggingface/datasets/csv/default-d0b6fc843e4f0822/0.0.0/6954658bab30a358235fa864b05cf819af0e179325c740e4bc853bcc7ec513e1. Subsequent calls will reuse this data.\n",
      "\n",
      "# Calculating Pseudo-Perplexity of `Arabic_Wikipedia_20230101.csv` in Progress ... \n",
      "\n",
      "# Mean Pseudo-Perplexity of `500` Randomly Selected Samples from `Arabic_Wikipedia_20230101.csv` == 23.70\n",
      "  > The Calculations of Pseudo-Perplexity Exported to `PPerplexity_Arabic_Wikipedia_20230101_500_Samples.csv`.\n",
      "\n"
     ]
    }
   ],
   "source": [
    "%run pseudo_ppl.py --checkpoint SaiedAlshahrani/arwiki_20230101_roberta_mlm_bots \\\n",
    "                   --dataset Arabic_Wikipedia_20230101.csv \\\n",
    "                   --seed 20230101 --nsamples 500 --min 400 --max 500"
   ]
  },
  {
   "cell_type": "markdown",
   "id": "4247f516-cbb0-4015-94e1-5a7fb3c79813",
   "metadata": {},
   "source": [
    "## # Evaluation of __Arabic Wikipedia__ Masked Language Model (With No Bots):"
   ]
  },
  {
   "cell_type": "code",
   "execution_count": 2,
   "id": "71c2486c-6325-4154-af8e-bd6fd8e77991",
   "metadata": {},
   "outputs": [
    {
     "name": "stdout",
     "output_type": "stream",
     "text": [
      "Downloading and preparing dataset csv/default to /Users/saied/.cache/huggingface/datasets/csv/default-07a63d89aa9e8fdf/0.0.0/6954658bab30a358235fa864b05cf819af0e179325c740e4bc853bcc7ec513e1...\n",
      "Dataset csv downloaded and prepared to /Users/saied/.cache/huggingface/datasets/csv/default-07a63d89aa9e8fdf/0.0.0/6954658bab30a358235fa864b05cf819af0e179325c740e4bc853bcc7ec513e1. Subsequent calls will reuse this data.\n",
      "\n",
      "# Calculating Pseudo-Perplexity of `Arabic_Wikipedia_20230101.csv` in Progress ... \n",
      "\n",
      "# Mean Pseudo-Perplexity of `500` Randomly Selected Samples from `Arabic_Wikipedia_20230101.csv` == 20.41\n",
      "  > The Calculations of Pseudo-Perplexity Exported to `PPerplexity_Arabic_Wikipedia_20230101_500_Samples.csv`.\n",
      "\n"
     ]
    }
   ],
   "source": [
    "%run pseudo_ppl.py --checkpoint SaiedAlshahrani/arwiki_20230101_roberta_mlm_nobots \\\n",
    "                   --dataset Arabic_Wikipedia_20230101.csv \\\n",
    "                   --seed 20230101 --nsamples 500 --min 400 --max 500"
   ]
  },
  {
   "cell_type": "markdown",
   "id": "be32b9ff-f6f1-4208-8673-23a91410c98d",
   "metadata": {},
   "source": [
    "## # Evaluation of __Egyptian Arabic Wikipedia__ Masked Language Model (_only_ With Bots):\n",
    "We dropped the Egyptian Arabic Wikipedia (_from the evaluation with no bots_) due to having an insignificant number of bot-generated articles, only 15 articles."
   ]
  },
  {
   "cell_type": "code",
   "execution_count": 3,
   "id": "921602d3-bfe6-4577-817d-8c724acc90f5",
   "metadata": {},
   "outputs": [
    {
     "name": "stdout",
     "output_type": "stream",
     "text": [
      "Downloading and preparing dataset csv/default to /Users/saied/.cache/huggingface/datasets/csv/default-6d169ea7b474376c/0.0.0/6954658bab30a358235fa864b05cf819af0e179325c740e4bc853bcc7ec513e1...\n",
      "Dataset csv downloaded and prepared to /Users/saied/.cache/huggingface/datasets/csv/default-6d169ea7b474376c/0.0.0/6954658bab30a358235fa864b05cf819af0e179325c740e4bc853bcc7ec513e1. Subsequent calls will reuse this data.\n",
      "\n",
      "# Calculating Pseudo-Perplexity of `Egyptian_Arabic_Wikipedia_20230101.csv` in Progress ... \n",
      "\n",
      "# Mean Pseudo-Perplexity of `500` Randomly Selected Samples from `Egyptian_Arabic_Wikipedia_20230101.csv` == 115.80\n",
      "  > The Calculations of Pseudo-Perplexity Exported to `PPerplexity_Egyptian_Arabic_Wikipedia_20230101_500_Samples.csv`.\n",
      "\n"
     ]
    }
   ],
   "source": [
    "%run pseudo_ppl.py --checkpoint SaiedAlshahrani/arzwiki_20230101_roberta_mlm \\\n",
    "                   --dataset Egyptian_Arabic_Wikipedia_20230101.csv \\\n",
    "                   --seed 20230101 --nsamples 500 --min 400 --max 500"
   ]
  },
  {
   "cell_type": "markdown",
   "id": "788161f9-f5ec-4899-8010-38064fb2b67d",
   "metadata": {
    "tags": []
   },
   "source": [
    "## # Evaluation of __Moroccan Arabic Wikipedia__ Masked Language Model (With Bots):"
   ]
  },
  {
   "cell_type": "code",
   "execution_count": 4,
   "id": "20aca205-e789-4e38-9179-17e0cd7e9531",
   "metadata": {
    "tags": []
   },
   "outputs": [
    {
     "name": "stdout",
     "output_type": "stream",
     "text": [
      "Downloading and preparing dataset csv/default to /Users/saied/.cache/huggingface/datasets/csv/default-832d97b9c9b1a1c3/0.0.0/6954658bab30a358235fa864b05cf819af0e179325c740e4bc853bcc7ec513e1...\n",
      "Dataset csv downloaded and prepared to /Users/saied/.cache/huggingface/datasets/csv/default-832d97b9c9b1a1c3/0.0.0/6954658bab30a358235fa864b05cf819af0e179325c740e4bc853bcc7ec513e1. Subsequent calls will reuse this data.\n",
      "\n",
      "# Calculating Pseudo-Perplexity of `Moroccan_Arabic_Wikipedia_20230101.csv` in Progress ... \n",
      "\n",
      "# Mean Pseudo-Perplexity of `500` Randomly Selected Samples from `Moroccan_Arabic_Wikipedia_20230101.csv` == 5,379.89\n",
      "  > The Calculations of Pseudo-Perplexity Exported to `PPerplexity_Moroccan_Arabic_Wikipedia_20230101_500_Samples.csv`.\n",
      "\n"
     ]
    }
   ],
   "source": [
    "%run pseudo_ppl.py --checkpoint SaiedAlshahrani/arywiki_20230101_roberta_mlm_bots \\\n",
    "                   --dataset Moroccan_Arabic_Wikipedia_20230101.csv \\\n",
    "                   --seed 20230101 --nsamples 500 --min 400 --max 500"
   ]
  },
  {
   "cell_type": "markdown",
   "id": "bb2d7942-aee1-43fd-a091-d0d780fa56ae",
   "metadata": {
    "tags": []
   },
   "source": [
    "## # Evaluation of __Moroccan Arabic Wikipedia__ Masked Language Model (With No Bots):"
   ]
  },
  {
   "cell_type": "code",
   "execution_count": 5,
   "id": "9b9d4045-d459-4858-94ac-d922f9c8ffa9",
   "metadata": {},
   "outputs": [
    {
     "name": "stdout",
     "output_type": "stream",
     "text": [
      "Downloading and preparing dataset csv/default to /Users/saied/.cache/huggingface/datasets/csv/default-b46d340f0afadebd/0.0.0/6954658bab30a358235fa864b05cf819af0e179325c740e4bc853bcc7ec513e1...\n",
      "Dataset csv downloaded and prepared to /Users/saied/.cache/huggingface/datasets/csv/default-b46d340f0afadebd/0.0.0/6954658bab30a358235fa864b05cf819af0e179325c740e4bc853bcc7ec513e1. Subsequent calls will reuse this data.\n",
      "\n",
      "# Calculating Pseudo-Perplexity of `Moroccan_Arabic_Wikipedia_20230101.csv` in Progress ... \n",
      "\n",
      "# Mean Pseudo-Perplexity of `500` Randomly Selected Samples from `Moroccan_Arabic_Wikipedia_20230101.csv` == 5,686.44\n",
      "  > The Calculations of Pseudo-Perplexity Exported to `PPerplexity_Moroccan_Arabic_Wikipedia_20230101_500_Samples.csv`.\n",
      "\n"
     ]
    }
   ],
   "source": [
    "%run pseudo_ppl.py --checkpoint SaiedAlshahrani/arywiki_20230101_roberta_mlm_nobots \\\n",
    "                   --dataset Moroccan_Arabic_Wikipedia_20230101.csv \\\n",
    "                   --seed 20230101 --nsamples 500 --min 400 --max 500"
   ]
  }
 ],
 "metadata": {
  "kernelspec": {
   "display_name": "Python 3.9 (mldl)",
   "language": "python",
   "name": "mldl"
  },
  "language_info": {
   "codemirror_mode": {
    "name": "ipython",
    "version": 3
   },
   "file_extension": ".py",
   "mimetype": "text/x-python",
   "name": "python",
   "nbconvert_exporter": "python",
   "pygments_lexer": "ipython3",
   "version": "3.9.13"
  }
 },
 "nbformat": 4,
 "nbformat_minor": 5
}
